{
 "cells": [
  {
   "cell_type": "code",
   "execution_count": 1,
   "metadata": {},
   "outputs": [
    {
     "name": "stdout",
     "output_type": "stream",
     "text": [
      "Enter email address: romtein@gmail.com\n",
      "Enter your password:Hithere#01\n",
      "Enter your twitter @ handle:romtein\n"
     ]
    }
   ],
   "source": [
    "import time, random\n",
    "import os\n",
    "from selenium import webdriver\n",
    "from selenium.webdriver.common.keys import Keys\n",
    "from selenium.webdriver.common.action_chains import ActionChains\n",
    "import requests\n",
    "from selenium.webdriver.common.action_chains import ActionChains\n",
    "import pyautogui\n",
    "\n",
    "driver = webdriver.Chrome(executable_path=r'C:\\chromedriver.exe')\n",
    "login = str(input(\"Enter email address: \"))\n",
    "password = str(input(\"Enter your password:\"))\n",
    "twitter_handle = str(input(\"Enter your twitter @ handle:\"))"
   ]
  },
  {
   "cell_type": "code",
   "execution_count": 2,
   "metadata": {},
   "outputs": [],
   "source": [
    "driver.get(\"https://www.twitter.com\")\n",
    "\n",
    "time.sleep(5)\n",
    "\n",
    "driver.find_element_by_class_name(\"StaticLoggedOutHomePage-input\").click()\n",
    "time.sleep(3)\n",
    "\n",
    "login_link = driver.find_element_by_class_name(\"js-username-field\")\n",
    "login_link.send_keys(login)\n",
    "\n",
    "password_link = driver.find_element_by_class_name(\"js-password-field\")\n",
    "password_link.send_keys(password)\n",
    "password_link.send_keys(Keys.RETURN)\n",
    "\n",
    "time.sleep(3)"
   ]
  },
  {
   "cell_type": "code",
   "execution_count": 3,
   "metadata": {},
   "outputs": [],
   "source": [
    "driver.get(\"https://www.twitter.com/\" + twitter_handle + \"/following\")\n",
    "time.sleep(3)\n"
   ]
  },
  {
   "cell_type": "code",
   "execution_count": 6,
   "metadata": {},
   "outputs": [
    {
     "ename": "KeyboardInterrupt",
     "evalue": "",
     "output_type": "error",
     "traceback": [
      "\u001b[1;31m---------------------------------------------------------------------------\u001b[0m",
      "\u001b[1;31mKeyboardInterrupt\u001b[0m                         Traceback (most recent call last)",
      "\u001b[1;32m<ipython-input-6-1d1a6321a93a>\u001b[0m in \u001b[0;36m<module>\u001b[1;34m\u001b[0m\n\u001b[0;32m     10\u001b[0m     \u001b[0mpyautogui\u001b[0m\u001b[1;33m.\u001b[0m\u001b[0mmouseUp\u001b[0m\u001b[1;33m(\u001b[0m\u001b[1;33m)\u001b[0m\u001b[1;33m\u001b[0m\u001b[1;33m\u001b[0m\u001b[0m\n\u001b[0;32m     11\u001b[0m     \u001b[0mdriver\u001b[0m\u001b[1;33m.\u001b[0m\u001b[0mrefresh\u001b[0m\u001b[1;33m(\u001b[0m\u001b[1;33m)\u001b[0m\u001b[1;33m\u001b[0m\u001b[1;33m\u001b[0m\u001b[0m\n\u001b[1;32m---> 12\u001b[1;33m     \u001b[0mtime\u001b[0m\u001b[1;33m.\u001b[0m\u001b[0msleep\u001b[0m\u001b[1;33m(\u001b[0m\u001b[1;36m2\u001b[0m\u001b[1;33m)\u001b[0m\u001b[1;33m\u001b[0m\u001b[1;33m\u001b[0m\u001b[0m\n\u001b[0m\u001b[0;32m     13\u001b[0m \u001b[1;33m\u001b[0m\u001b[0m\n",
      "\u001b[1;31mKeyboardInterrupt\u001b[0m: "
     ]
    }
   ],
   "source": [
    "time.sleep(3)\n",
    "\n",
    "for r in range (0,500):\n",
    "    pyautogui.moveTo(675, 275, duration = 0.01)\n",
    "    pyautogui.mouseDown()\n",
    "    pyautogui.mouseUp()\n",
    "    time.sleep(1)\n",
    "    pyautogui.moveTo(540, 622, duration = 0.01)\n",
    "    pyautogui.mouseDown()\n",
    "    pyautogui.mouseUp()\n",
    "    driver.refresh()\n",
    "    time.sleep(2)\n",
    "    "
   ]
  },
  {
   "cell_type": "code",
   "execution_count": null,
   "metadata": {},
   "outputs": [],
   "source": []
  }
 ],
 "metadata": {
  "kernelspec": {
   "display_name": "Python 3",
   "language": "python",
   "name": "python3"
  }
 },
 "nbformat": 4,
 "nbformat_minor": 2
}
